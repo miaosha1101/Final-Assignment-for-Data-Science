{
 "cells": [
  {
   "cell_type": "markdown",
   "id": "ab4efdc5-a9a3-4d5b-be68-fb6ae9eca505",
   "metadata": {},
   "source": [
    "# Data Science Tools and Ecosystem"
   ]
  },
  {
   "cell_type": "markdown",
   "id": "b766d514-fd5e-47f0-960f-f2e920ffd66e",
   "metadata": {},
   "source": [
    "In this notebook, Data Science Tools and Ecosystem are summarized."
   ]
  },
  {
   "cell_type": "markdown",
   "id": "2e186490-4457-4d40-93cb-624e0234fc2e",
   "metadata": {},
   "source": [
    "**Objectives:**\n",
    "- Popular languages for Data Science: Python, R, SQL\n",
    "- Commonly used libraries: Pandas, NumPy, SciPy\n",
    "- Popular Data Science Tools: Jupyter Notebooks, RStudio\n"
   ]
  },
  {
   "cell_type": "markdown",
   "id": "7a38a0d9-7ed8-4978-bcc8-fb770d0aab5f",
   "metadata": {},
   "source": [
    "Some of the popular languages that Data Scientists use are:Python, R, SQL, JAVA, C++, Scala, Julia"
   ]
  },
  {
   "cell_type": "markdown",
   "id": "132278dc-9939-4f2e-aff2-a781ea3ea08b",
   "metadata": {},
   "source": [
    "1. Python\n",
    "2. R\n",
    "3. SQL"
   ]
  },
  {
   "cell_type": "markdown",
   "id": "cc55ba97-a645-4b19-a374-ec4605295e1f",
   "metadata": {},
   "source": [
    "Some of the commonly used libraries used by Data Scientists include: Pandas, NumPy, SciPy, Keras, PyTorch\n",
    "1. Pandas\n",
    "2. NumPy\n",
    "3. SciPy"
   ]
  },
  {
   "cell_type": "markdown",
   "id": "2ee8555b-3134-493a-863d-98f485cd50fe",
   "metadata": {},
   "source": [
    "|Data Science Tools|\n",
    "|------------------|\n",
    "|Jupyter Notebooks|\n",
    "|RStudio|\n",
    "|TensorFlow|"
   ]
  },
  {
   "cell_type": "markdown",
   "id": "3a68146f-700d-4bf6-8379-39f6cbaa28f8",
   "metadata": {},
   "source": [
    "### Below are a few examples of evaluating arithmetic expressions in Python: \n",
    "+ - *"
   ]
  },
  {
   "cell_type": "code",
   "execution_count": 1,
   "id": "418afc4c-f33f-46b0-bb8f-2695e3e50d3b",
   "metadata": {
    "tags": []
   },
   "outputs": [
    {
     "data": {
      "text/plain": [
       "17"
      ]
     },
     "execution_count": 1,
     "metadata": {},
     "output_type": "execute_result"
    }
   ],
   "source": [
    "# This a simple arithmetic expression to mutiply then add integers\n",
    "(3*4)+5"
   ]
  },
  {
   "cell_type": "code",
   "execution_count": 4,
   "id": "ebc36165-52f4-40b9-95e8-f2f4390dae10",
   "metadata": {
    "tags": []
   },
   "outputs": [
    {
     "name": "stdout",
     "output_type": "stream",
     "text": [
      "200 minutes = 3.3333333333333335 hours\n"
     ]
    }
   ],
   "source": [
    "# This will convert 200 minutes to hours by diving by 60\n",
    "x=200;\n",
    "y=200/60;\n",
    "print(x, \"minutes =\",y, \"hours\");"
   ]
  },
  {
   "cell_type": "markdown",
   "id": "44e8b8e1-ac15-4959-8fd7-6e52d4bfb6a5",
   "metadata": {},
   "source": [
    "## Author\n",
    "Sha M."
   ]
  }
 ],
 "metadata": {
  "kernelspec": {
   "display_name": "Python",
   "language": "python",
   "name": "conda-env-python-py"
  },
  "language_info": {
   "codemirror_mode": {
    "name": "ipython",
    "version": 3
   },
   "file_extension": ".py",
   "mimetype": "text/x-python",
   "name": "python",
   "nbconvert_exporter": "python",
   "pygments_lexer": "ipython3",
   "version": "3.7.12"
  }
 },
 "nbformat": 4,
 "nbformat_minor": 5
}
